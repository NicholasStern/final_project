{
 "cells": [
  {
   "cell_type": "code",
   "execution_count": 1,
   "metadata": {},
   "outputs": [],
   "source": [
    "import pandas as pd\n",
    "import matplotlib.pyplot as plt\n",
    "import seaborn as sns\n",
    "import numpy as np"
   ]
  },
  {
   "cell_type": "code",
   "execution_count": 2,
   "metadata": {},
   "outputs": [],
   "source": [
    "company_df = pd.read_csv('histories/apple.csv')"
   ]
  },
  {
   "cell_type": "code",
   "execution_count": 3,
   "metadata": {},
   "outputs": [
    {
     "data": {
      "text/html": [
       "<div>\n",
       "<style scoped>\n",
       "    .dataframe tbody tr th:only-of-type {\n",
       "        vertical-align: middle;\n",
       "    }\n",
       "\n",
       "    .dataframe tbody tr th {\n",
       "        vertical-align: top;\n",
       "    }\n",
       "\n",
       "    .dataframe thead th {\n",
       "        text-align: right;\n",
       "    }\n",
       "</style>\n",
       "<table border=\"1\" class=\"dataframe\">\n",
       "  <thead>\n",
       "    <tr style=\"text-align: right;\">\n",
       "      <th></th>\n",
       "      <th>Date</th>\n",
       "      <th>Open</th>\n",
       "      <th>High</th>\n",
       "      <th>Low</th>\n",
       "      <th>Close</th>\n",
       "      <th>Adj Close</th>\n",
       "      <th>Volume</th>\n",
       "    </tr>\n",
       "  </thead>\n",
       "  <tbody>\n",
       "    <tr>\n",
       "      <th>0</th>\n",
       "      <td>1980-12-12</td>\n",
       "      <td>0.513393</td>\n",
       "      <td>0.515625</td>\n",
       "      <td>0.513393</td>\n",
       "      <td>0.513393</td>\n",
       "      <td>0.023106</td>\n",
       "      <td>117258400.0</td>\n",
       "    </tr>\n",
       "    <tr>\n",
       "      <th>1</th>\n",
       "      <td>1980-12-15</td>\n",
       "      <td>0.488839</td>\n",
       "      <td>0.488839</td>\n",
       "      <td>0.486607</td>\n",
       "      <td>0.486607</td>\n",
       "      <td>0.021900</td>\n",
       "      <td>43971200.0</td>\n",
       "    </tr>\n",
       "    <tr>\n",
       "      <th>2</th>\n",
       "      <td>1980-12-16</td>\n",
       "      <td>0.453125</td>\n",
       "      <td>0.453125</td>\n",
       "      <td>0.450893</td>\n",
       "      <td>0.450893</td>\n",
       "      <td>0.020293</td>\n",
       "      <td>26432000.0</td>\n",
       "    </tr>\n",
       "    <tr>\n",
       "      <th>3</th>\n",
       "      <td>1980-12-17</td>\n",
       "      <td>0.462054</td>\n",
       "      <td>0.464286</td>\n",
       "      <td>0.462054</td>\n",
       "      <td>0.462054</td>\n",
       "      <td>0.020795</td>\n",
       "      <td>21610400.0</td>\n",
       "    </tr>\n",
       "    <tr>\n",
       "      <th>4</th>\n",
       "      <td>1980-12-18</td>\n",
       "      <td>0.475446</td>\n",
       "      <td>0.477679</td>\n",
       "      <td>0.475446</td>\n",
       "      <td>0.475446</td>\n",
       "      <td>0.021398</td>\n",
       "      <td>18362400.0</td>\n",
       "    </tr>\n",
       "  </tbody>\n",
       "</table>\n",
       "</div>"
      ],
      "text/plain": [
       "         Date      Open      High       Low     Close  Adj Close       Volume\n",
       "0  1980-12-12  0.513393  0.515625  0.513393  0.513393   0.023106  117258400.0\n",
       "1  1980-12-15  0.488839  0.488839  0.486607  0.486607   0.021900   43971200.0\n",
       "2  1980-12-16  0.453125  0.453125  0.450893  0.450893   0.020293   26432000.0\n",
       "3  1980-12-17  0.462054  0.464286  0.462054  0.462054   0.020795   21610400.0\n",
       "4  1980-12-18  0.475446  0.477679  0.475446  0.475446   0.021398   18362400.0"
      ]
     },
     "execution_count": 3,
     "metadata": {},
     "output_type": "execute_result"
    }
   ],
   "source": [
    "company_df.head()"
   ]
  },
  {
   "cell_type": "code",
   "execution_count": 4,
   "metadata": {},
   "outputs": [
    {
     "data": {
      "text/plain": [
       "Date          object\n",
       "Open         float64\n",
       "High         float64\n",
       "Low          float64\n",
       "Close        float64\n",
       "Adj Close    float64\n",
       "Volume       float64\n",
       "dtype: object"
      ]
     },
     "execution_count": 4,
     "metadata": {},
     "output_type": "execute_result"
    }
   ],
   "source": [
    "company_df.dtypes"
   ]
  },
  {
   "cell_type": "code",
   "execution_count": 5,
   "metadata": {},
   "outputs": [],
   "source": [
    "company_df['Date'] = pd.to_datetime(company_df['Date'])"
   ]
  },
  {
   "cell_type": "code",
   "execution_count": 6,
   "metadata": {},
   "outputs": [
    {
     "data": {
      "text/html": [
       "<div>\n",
       "<style scoped>\n",
       "    .dataframe tbody tr th:only-of-type {\n",
       "        vertical-align: middle;\n",
       "    }\n",
       "\n",
       "    .dataframe tbody tr th {\n",
       "        vertical-align: top;\n",
       "    }\n",
       "\n",
       "    .dataframe thead th {\n",
       "        text-align: right;\n",
       "    }\n",
       "</style>\n",
       "<table border=\"1\" class=\"dataframe\">\n",
       "  <thead>\n",
       "    <tr style=\"text-align: right;\">\n",
       "      <th></th>\n",
       "      <th>Date</th>\n",
       "      <th>Open</th>\n",
       "      <th>High</th>\n",
       "      <th>Low</th>\n",
       "      <th>Close</th>\n",
       "      <th>Adj Close</th>\n",
       "      <th>Volume</th>\n",
       "    </tr>\n",
       "  </thead>\n",
       "  <tbody>\n",
       "    <tr>\n",
       "      <th>0</th>\n",
       "      <td>1980-12-12</td>\n",
       "      <td>0.513393</td>\n",
       "      <td>0.515625</td>\n",
       "      <td>0.513393</td>\n",
       "      <td>0.513393</td>\n",
       "      <td>0.023106</td>\n",
       "      <td>117258400.0</td>\n",
       "    </tr>\n",
       "    <tr>\n",
       "      <th>1</th>\n",
       "      <td>1980-12-15</td>\n",
       "      <td>0.488839</td>\n",
       "      <td>0.488839</td>\n",
       "      <td>0.486607</td>\n",
       "      <td>0.486607</td>\n",
       "      <td>0.021900</td>\n",
       "      <td>43971200.0</td>\n",
       "    </tr>\n",
       "    <tr>\n",
       "      <th>2</th>\n",
       "      <td>1980-12-16</td>\n",
       "      <td>0.453125</td>\n",
       "      <td>0.453125</td>\n",
       "      <td>0.450893</td>\n",
       "      <td>0.450893</td>\n",
       "      <td>0.020293</td>\n",
       "      <td>26432000.0</td>\n",
       "    </tr>\n",
       "    <tr>\n",
       "      <th>3</th>\n",
       "      <td>1980-12-17</td>\n",
       "      <td>0.462054</td>\n",
       "      <td>0.464286</td>\n",
       "      <td>0.462054</td>\n",
       "      <td>0.462054</td>\n",
       "      <td>0.020795</td>\n",
       "      <td>21610400.0</td>\n",
       "    </tr>\n",
       "    <tr>\n",
       "      <th>4</th>\n",
       "      <td>1980-12-18</td>\n",
       "      <td>0.475446</td>\n",
       "      <td>0.477679</td>\n",
       "      <td>0.475446</td>\n",
       "      <td>0.475446</td>\n",
       "      <td>0.021398</td>\n",
       "      <td>18362400.0</td>\n",
       "    </tr>\n",
       "  </tbody>\n",
       "</table>\n",
       "</div>"
      ],
      "text/plain": [
       "        Date      Open      High       Low     Close  Adj Close       Volume\n",
       "0 1980-12-12  0.513393  0.515625  0.513393  0.513393   0.023106  117258400.0\n",
       "1 1980-12-15  0.488839  0.488839  0.486607  0.486607   0.021900   43971200.0\n",
       "2 1980-12-16  0.453125  0.453125  0.450893  0.450893   0.020293   26432000.0\n",
       "3 1980-12-17  0.462054  0.464286  0.462054  0.462054   0.020795   21610400.0\n",
       "4 1980-12-18  0.475446  0.477679  0.475446  0.475446   0.021398   18362400.0"
      ]
     },
     "execution_count": 6,
     "metadata": {},
     "output_type": "execute_result"
    }
   ],
   "source": [
    "company_df.head()"
   ]
  },
  {
   "cell_type": "code",
   "execution_count": 7,
   "metadata": {},
   "outputs": [
    {
     "data": {
      "text/plain": [
       "Date         datetime64[ns]\n",
       "Open                float64\n",
       "High                float64\n",
       "Low                 float64\n",
       "Close               float64\n",
       "Adj Close           float64\n",
       "Volume              float64\n",
       "dtype: object"
      ]
     },
     "execution_count": 7,
     "metadata": {},
     "output_type": "execute_result"
    }
   ],
   "source": [
    "company_df.dtypes"
   ]
  },
  {
   "cell_type": "code",
   "execution_count": 8,
   "metadata": {},
   "outputs": [],
   "source": [
    "company_recent_df = company_df[-1000:]"
   ]
  },
  {
   "cell_type": "code",
   "execution_count": 9,
   "metadata": {},
   "outputs": [],
   "source": [
    "def create_timestamp(year, month=1, day=1):\n",
    "    return pd.Timestamp('{}-{:02d}-{:02d} 00:00:00'.format(year, month, day))"
   ]
  },
  {
   "cell_type": "code",
   "execution_count": 10,
   "metadata": {},
   "outputs": [
    {
     "data": {
      "text/html": [
       "<div>\n",
       "<style scoped>\n",
       "    .dataframe tbody tr th:only-of-type {\n",
       "        vertical-align: middle;\n",
       "    }\n",
       "\n",
       "    .dataframe tbody tr th {\n",
       "        vertical-align: top;\n",
       "    }\n",
       "\n",
       "    .dataframe thead th {\n",
       "        text-align: right;\n",
       "    }\n",
       "</style>\n",
       "<table border=\"1\" class=\"dataframe\">\n",
       "  <thead>\n",
       "    <tr style=\"text-align: right;\">\n",
       "      <th></th>\n",
       "      <th>Date</th>\n",
       "      <th>Open</th>\n",
       "      <th>High</th>\n",
       "      <th>Low</th>\n",
       "      <th>Close</th>\n",
       "      <th>Adj Close</th>\n",
       "      <th>Volume</th>\n",
       "    </tr>\n",
       "  </thead>\n",
       "  <tbody>\n",
       "    <tr>\n",
       "      <th>0</th>\n",
       "      <td>1980-12-12</td>\n",
       "      <td>0.513393</td>\n",
       "      <td>0.515625</td>\n",
       "      <td>0.513393</td>\n",
       "      <td>0.513393</td>\n",
       "      <td>0.023106</td>\n",
       "      <td>117258400.0</td>\n",
       "    </tr>\n",
       "    <tr>\n",
       "      <th>1</th>\n",
       "      <td>1980-12-15</td>\n",
       "      <td>0.488839</td>\n",
       "      <td>0.488839</td>\n",
       "      <td>0.486607</td>\n",
       "      <td>0.486607</td>\n",
       "      <td>0.021900</td>\n",
       "      <td>43971200.0</td>\n",
       "    </tr>\n",
       "    <tr>\n",
       "      <th>2</th>\n",
       "      <td>1980-12-16</td>\n",
       "      <td>0.453125</td>\n",
       "      <td>0.453125</td>\n",
       "      <td>0.450893</td>\n",
       "      <td>0.450893</td>\n",
       "      <td>0.020293</td>\n",
       "      <td>26432000.0</td>\n",
       "    </tr>\n",
       "    <tr>\n",
       "      <th>3</th>\n",
       "      <td>1980-12-17</td>\n",
       "      <td>0.462054</td>\n",
       "      <td>0.464286</td>\n",
       "      <td>0.462054</td>\n",
       "      <td>0.462054</td>\n",
       "      <td>0.020795</td>\n",
       "      <td>21610400.0</td>\n",
       "    </tr>\n",
       "    <tr>\n",
       "      <th>4</th>\n",
       "      <td>1980-12-18</td>\n",
       "      <td>0.475446</td>\n",
       "      <td>0.477679</td>\n",
       "      <td>0.475446</td>\n",
       "      <td>0.475446</td>\n",
       "      <td>0.021398</td>\n",
       "      <td>18362400.0</td>\n",
       "    </tr>\n",
       "  </tbody>\n",
       "</table>\n",
       "</div>"
      ],
      "text/plain": [
       "        Date      Open      High       Low     Close  Adj Close       Volume\n",
       "0 1980-12-12  0.513393  0.515625  0.513393  0.513393   0.023106  117258400.0\n",
       "1 1980-12-15  0.488839  0.488839  0.486607  0.486607   0.021900   43971200.0\n",
       "2 1980-12-16  0.453125  0.453125  0.450893  0.450893   0.020293   26432000.0\n",
       "3 1980-12-17  0.462054  0.464286  0.462054  0.462054   0.020795   21610400.0\n",
       "4 1980-12-18  0.475446  0.477679  0.475446  0.475446   0.021398   18362400.0"
      ]
     },
     "execution_count": 10,
     "metadata": {},
     "output_type": "execute_result"
    }
   ],
   "source": [
    "company_df.head()"
   ]
  },
  {
   "cell_type": "code",
   "execution_count": 11,
   "metadata": {},
   "outputs": [],
   "source": [
    "company_df[\"today_diff\"] = company_df.Close - company_df.Open"
   ]
  },
  {
   "cell_type": "code",
   "execution_count": 12,
   "metadata": {},
   "outputs": [],
   "source": [
    "company_df[\"today_mvt\"] = company_df.today_diff.apply(lambda x: 1 if x >= 0 else 0)"
   ]
  },
  {
   "cell_type": "code",
   "execution_count": 13,
   "metadata": {
    "scrolled": true
   },
   "outputs": [
    {
     "data": {
      "text/html": [
       "<div>\n",
       "<style scoped>\n",
       "    .dataframe tbody tr th:only-of-type {\n",
       "        vertical-align: middle;\n",
       "    }\n",
       "\n",
       "    .dataframe tbody tr th {\n",
       "        vertical-align: top;\n",
       "    }\n",
       "\n",
       "    .dataframe thead th {\n",
       "        text-align: right;\n",
       "    }\n",
       "</style>\n",
       "<table border=\"1\" class=\"dataframe\">\n",
       "  <thead>\n",
       "    <tr style=\"text-align: right;\">\n",
       "      <th></th>\n",
       "      <th>Date</th>\n",
       "      <th>Open</th>\n",
       "      <th>High</th>\n",
       "      <th>Low</th>\n",
       "      <th>Close</th>\n",
       "      <th>Adj Close</th>\n",
       "      <th>Volume</th>\n",
       "      <th>today_diff</th>\n",
       "      <th>today_mvt</th>\n",
       "    </tr>\n",
       "  </thead>\n",
       "  <tbody>\n",
       "    <tr>\n",
       "      <th>0</th>\n",
       "      <td>1980-12-12</td>\n",
       "      <td>0.513393</td>\n",
       "      <td>0.515625</td>\n",
       "      <td>0.513393</td>\n",
       "      <td>0.513393</td>\n",
       "      <td>0.023106</td>\n",
       "      <td>117258400.0</td>\n",
       "      <td>0.000000</td>\n",
       "      <td>1</td>\n",
       "    </tr>\n",
       "    <tr>\n",
       "      <th>1</th>\n",
       "      <td>1980-12-15</td>\n",
       "      <td>0.488839</td>\n",
       "      <td>0.488839</td>\n",
       "      <td>0.486607</td>\n",
       "      <td>0.486607</td>\n",
       "      <td>0.021900</td>\n",
       "      <td>43971200.0</td>\n",
       "      <td>-0.002232</td>\n",
       "      <td>0</td>\n",
       "    </tr>\n",
       "    <tr>\n",
       "      <th>2</th>\n",
       "      <td>1980-12-16</td>\n",
       "      <td>0.453125</td>\n",
       "      <td>0.453125</td>\n",
       "      <td>0.450893</td>\n",
       "      <td>0.450893</td>\n",
       "      <td>0.020293</td>\n",
       "      <td>26432000.0</td>\n",
       "      <td>-0.002232</td>\n",
       "      <td>0</td>\n",
       "    </tr>\n",
       "    <tr>\n",
       "      <th>3</th>\n",
       "      <td>1980-12-17</td>\n",
       "      <td>0.462054</td>\n",
       "      <td>0.464286</td>\n",
       "      <td>0.462054</td>\n",
       "      <td>0.462054</td>\n",
       "      <td>0.020795</td>\n",
       "      <td>21610400.0</td>\n",
       "      <td>0.000000</td>\n",
       "      <td>1</td>\n",
       "    </tr>\n",
       "    <tr>\n",
       "      <th>4</th>\n",
       "      <td>1980-12-18</td>\n",
       "      <td>0.475446</td>\n",
       "      <td>0.477679</td>\n",
       "      <td>0.475446</td>\n",
       "      <td>0.475446</td>\n",
       "      <td>0.021398</td>\n",
       "      <td>18362400.0</td>\n",
       "      <td>0.000000</td>\n",
       "      <td>1</td>\n",
       "    </tr>\n",
       "  </tbody>\n",
       "</table>\n",
       "</div>"
      ],
      "text/plain": [
       "        Date      Open      High       Low     Close  Adj Close       Volume  \\\n",
       "0 1980-12-12  0.513393  0.515625  0.513393  0.513393   0.023106  117258400.0   \n",
       "1 1980-12-15  0.488839  0.488839  0.486607  0.486607   0.021900   43971200.0   \n",
       "2 1980-12-16  0.453125  0.453125  0.450893  0.450893   0.020293   26432000.0   \n",
       "3 1980-12-17  0.462054  0.464286  0.462054  0.462054   0.020795   21610400.0   \n",
       "4 1980-12-18  0.475446  0.477679  0.475446  0.475446   0.021398   18362400.0   \n",
       "\n",
       "   today_diff  today_mvt  \n",
       "0    0.000000          1  \n",
       "1   -0.002232          0  \n",
       "2   -0.002232          0  \n",
       "3    0.000000          1  \n",
       "4    0.000000          1  "
      ]
     },
     "execution_count": 13,
     "metadata": {},
     "output_type": "execute_result"
    }
   ],
   "source": [
    "company_df.head()"
   ]
  },
  {
   "cell_type": "code",
   "execution_count": 14,
   "metadata": {
    "scrolled": true
   },
   "outputs": [
    {
     "data": {
      "text/plain": [
       "(9575,)"
      ]
     },
     "execution_count": 14,
     "metadata": {},
     "output_type": "execute_result"
    }
   ],
   "source": [
    "company_df[1:][\"today_mvt\"].values.shape"
   ]
  },
  {
   "cell_type": "code",
   "execution_count": 15,
   "metadata": {},
   "outputs": [],
   "source": [
    "company_df[\"tomorrow_mvt\"] = np.concatenate((company_df[1:][\"today_mvt\"], np.array([None])))"
   ]
  },
  {
   "cell_type": "code",
   "execution_count": 16,
   "metadata": {},
   "outputs": [],
   "source": [
    "features_to_use = [\"Open\", \"High\", \"Low\", \"Close\", \"Adj Close\", \"Volume\"]\n",
    "number_of_previous_days_to_add = 2\n",
    "\n",
    "for i in range(1, number_of_previous_days_to_add + 1):\n",
    "    for feature in features_to_use:\n",
    "        company_df[\"{}{}\".format(feature, -i)] = np.concatenate((np.array([None]*i), company_df[:-i][feature]))"
   ]
  },
  {
   "cell_type": "code",
   "execution_count": 17,
   "metadata": {
    "scrolled": true
   },
   "outputs": [
    {
     "data": {
      "text/html": [
       "<div>\n",
       "<style scoped>\n",
       "    .dataframe tbody tr th:only-of-type {\n",
       "        vertical-align: middle;\n",
       "    }\n",
       "\n",
       "    .dataframe tbody tr th {\n",
       "        vertical-align: top;\n",
       "    }\n",
       "\n",
       "    .dataframe thead th {\n",
       "        text-align: right;\n",
       "    }\n",
       "</style>\n",
       "<table border=\"1\" class=\"dataframe\">\n",
       "  <thead>\n",
       "    <tr style=\"text-align: right;\">\n",
       "      <th></th>\n",
       "      <th>Date</th>\n",
       "      <th>Open</th>\n",
       "      <th>High</th>\n",
       "      <th>Low</th>\n",
       "      <th>Close</th>\n",
       "      <th>Adj Close</th>\n",
       "      <th>Volume</th>\n",
       "      <th>today_diff</th>\n",
       "      <th>today_mvt</th>\n",
       "      <th>tomorrow_mvt</th>\n",
       "      <th>...</th>\n",
       "      <th>Low-1</th>\n",
       "      <th>Close-1</th>\n",
       "      <th>Adj Close-1</th>\n",
       "      <th>Volume-1</th>\n",
       "      <th>Open-2</th>\n",
       "      <th>High-2</th>\n",
       "      <th>Low-2</th>\n",
       "      <th>Close-2</th>\n",
       "      <th>Adj Close-2</th>\n",
       "      <th>Volume-2</th>\n",
       "    </tr>\n",
       "  </thead>\n",
       "  <tbody>\n",
       "    <tr>\n",
       "      <th>0</th>\n",
       "      <td>1980-12-12</td>\n",
       "      <td>0.513393</td>\n",
       "      <td>0.515625</td>\n",
       "      <td>0.513393</td>\n",
       "      <td>0.513393</td>\n",
       "      <td>0.023106</td>\n",
       "      <td>117258400.0</td>\n",
       "      <td>0.000000</td>\n",
       "      <td>1</td>\n",
       "      <td>0</td>\n",
       "      <td>...</td>\n",
       "      <td>None</td>\n",
       "      <td>None</td>\n",
       "      <td>None</td>\n",
       "      <td>None</td>\n",
       "      <td>None</td>\n",
       "      <td>None</td>\n",
       "      <td>None</td>\n",
       "      <td>None</td>\n",
       "      <td>None</td>\n",
       "      <td>None</td>\n",
       "    </tr>\n",
       "    <tr>\n",
       "      <th>1</th>\n",
       "      <td>1980-12-15</td>\n",
       "      <td>0.488839</td>\n",
       "      <td>0.488839</td>\n",
       "      <td>0.486607</td>\n",
       "      <td>0.486607</td>\n",
       "      <td>0.021900</td>\n",
       "      <td>43971200.0</td>\n",
       "      <td>-0.002232</td>\n",
       "      <td>0</td>\n",
       "      <td>0</td>\n",
       "      <td>...</td>\n",
       "      <td>0.513393</td>\n",
       "      <td>0.513393</td>\n",
       "      <td>0.023106</td>\n",
       "      <td>1.17258e+08</td>\n",
       "      <td>None</td>\n",
       "      <td>None</td>\n",
       "      <td>None</td>\n",
       "      <td>None</td>\n",
       "      <td>None</td>\n",
       "      <td>None</td>\n",
       "    </tr>\n",
       "    <tr>\n",
       "      <th>2</th>\n",
       "      <td>1980-12-16</td>\n",
       "      <td>0.453125</td>\n",
       "      <td>0.453125</td>\n",
       "      <td>0.450893</td>\n",
       "      <td>0.450893</td>\n",
       "      <td>0.020293</td>\n",
       "      <td>26432000.0</td>\n",
       "      <td>-0.002232</td>\n",
       "      <td>0</td>\n",
       "      <td>1</td>\n",
       "      <td>...</td>\n",
       "      <td>0.486607</td>\n",
       "      <td>0.486607</td>\n",
       "      <td>0.0219</td>\n",
       "      <td>4.39712e+07</td>\n",
       "      <td>0.513393</td>\n",
       "      <td>0.515625</td>\n",
       "      <td>0.513393</td>\n",
       "      <td>0.513393</td>\n",
       "      <td>0.023106</td>\n",
       "      <td>1.17258e+08</td>\n",
       "    </tr>\n",
       "    <tr>\n",
       "      <th>3</th>\n",
       "      <td>1980-12-17</td>\n",
       "      <td>0.462054</td>\n",
       "      <td>0.464286</td>\n",
       "      <td>0.462054</td>\n",
       "      <td>0.462054</td>\n",
       "      <td>0.020795</td>\n",
       "      <td>21610400.0</td>\n",
       "      <td>0.000000</td>\n",
       "      <td>1</td>\n",
       "      <td>1</td>\n",
       "      <td>...</td>\n",
       "      <td>0.450893</td>\n",
       "      <td>0.450893</td>\n",
       "      <td>0.020293</td>\n",
       "      <td>2.6432e+07</td>\n",
       "      <td>0.488839</td>\n",
       "      <td>0.488839</td>\n",
       "      <td>0.486607</td>\n",
       "      <td>0.486607</td>\n",
       "      <td>0.0219</td>\n",
       "      <td>4.39712e+07</td>\n",
       "    </tr>\n",
       "    <tr>\n",
       "      <th>4</th>\n",
       "      <td>1980-12-18</td>\n",
       "      <td>0.475446</td>\n",
       "      <td>0.477679</td>\n",
       "      <td>0.475446</td>\n",
       "      <td>0.475446</td>\n",
       "      <td>0.021398</td>\n",
       "      <td>18362400.0</td>\n",
       "      <td>0.000000</td>\n",
       "      <td>1</td>\n",
       "      <td>1</td>\n",
       "      <td>...</td>\n",
       "      <td>0.462054</td>\n",
       "      <td>0.462054</td>\n",
       "      <td>0.020795</td>\n",
       "      <td>2.16104e+07</td>\n",
       "      <td>0.453125</td>\n",
       "      <td>0.453125</td>\n",
       "      <td>0.450893</td>\n",
       "      <td>0.450893</td>\n",
       "      <td>0.020293</td>\n",
       "      <td>2.6432e+07</td>\n",
       "    </tr>\n",
       "  </tbody>\n",
       "</table>\n",
       "<p>5 rows × 22 columns</p>\n",
       "</div>"
      ],
      "text/plain": [
       "        Date      Open      High       Low     Close  Adj Close       Volume  \\\n",
       "0 1980-12-12  0.513393  0.515625  0.513393  0.513393   0.023106  117258400.0   \n",
       "1 1980-12-15  0.488839  0.488839  0.486607  0.486607   0.021900   43971200.0   \n",
       "2 1980-12-16  0.453125  0.453125  0.450893  0.450893   0.020293   26432000.0   \n",
       "3 1980-12-17  0.462054  0.464286  0.462054  0.462054   0.020795   21610400.0   \n",
       "4 1980-12-18  0.475446  0.477679  0.475446  0.475446   0.021398   18362400.0   \n",
       "\n",
       "   today_diff  today_mvt tomorrow_mvt     ...          Low-1   Close-1  \\\n",
       "0    0.000000          1            0     ...           None      None   \n",
       "1   -0.002232          0            0     ...       0.513393  0.513393   \n",
       "2   -0.002232          0            1     ...       0.486607  0.486607   \n",
       "3    0.000000          1            1     ...       0.450893  0.450893   \n",
       "4    0.000000          1            1     ...       0.462054  0.462054   \n",
       "\n",
       "  Adj Close-1     Volume-1    Open-2    High-2     Low-2   Close-2  \\\n",
       "0        None         None      None      None      None      None   \n",
       "1    0.023106  1.17258e+08      None      None      None      None   \n",
       "2      0.0219  4.39712e+07  0.513393  0.515625  0.513393  0.513393   \n",
       "3    0.020293   2.6432e+07  0.488839  0.488839  0.486607  0.486607   \n",
       "4    0.020795  2.16104e+07  0.453125  0.453125  0.450893  0.450893   \n",
       "\n",
       "  Adj Close-2     Volume-2  \n",
       "0        None         None  \n",
       "1        None         None  \n",
       "2    0.023106  1.17258e+08  \n",
       "3      0.0219  4.39712e+07  \n",
       "4    0.020293   2.6432e+07  \n",
       "\n",
       "[5 rows x 22 columns]"
      ]
     },
     "execution_count": 17,
     "metadata": {},
     "output_type": "execute_result"
    }
   ],
   "source": [
    "company_df.head()"
   ]
  },
  {
   "cell_type": "code",
   "execution_count": 18,
   "metadata": {},
   "outputs": [],
   "source": [
    "company_df.dropna(axis=0, inplace=True)"
   ]
  },
  {
   "cell_type": "code",
   "execution_count": 19,
   "metadata": {},
   "outputs": [
    {
     "data": {
      "text/plain": [
       "Date            datetime64[ns]\n",
       "Open                   float64\n",
       "High                   float64\n",
       "Low                    float64\n",
       "Close                  float64\n",
       "Adj Close              float64\n",
       "Volume                 float64\n",
       "today_diff             float64\n",
       "today_mvt                int64\n",
       "tomorrow_mvt            object\n",
       "Open-1                  object\n",
       "High-1                  object\n",
       "Low-1                   object\n",
       "Close-1                 object\n",
       "Adj Close-1             object\n",
       "Volume-1                object\n",
       "Open-2                  object\n",
       "High-2                  object\n",
       "Low-2                   object\n",
       "Close-2                 object\n",
       "Adj Close-2             object\n",
       "Volume-2                object\n",
       "dtype: object"
      ]
     },
     "execution_count": 19,
     "metadata": {},
     "output_type": "execute_result"
    }
   ],
   "source": [
    "company_df.dtypes"
   ]
  },
  {
   "cell_type": "code",
   "execution_count": 20,
   "metadata": {},
   "outputs": [],
   "source": [
    "company_df['tomorrow_mvt'] = company_df['tomorrow_mvt'].astype(int)"
   ]
  },
  {
   "cell_type": "code",
   "execution_count": 23,
   "metadata": {},
   "outputs": [],
   "source": [
    "for c in company_df.columns:\n",
    "    if company_df.dtypes[c] == object:\n",
    "        company_df[c] = company_df[c].astype(float)"
   ]
  },
  {
   "cell_type": "code",
   "execution_count": 24,
   "metadata": {},
   "outputs": [
    {
     "data": {
      "text/plain": [
       "Date            datetime64[ns]\n",
       "Open                   float64\n",
       "High                   float64\n",
       "Low                    float64\n",
       "Close                  float64\n",
       "Adj Close              float64\n",
       "Volume                 float64\n",
       "today_diff             float64\n",
       "today_mvt                int64\n",
       "tomorrow_mvt             int32\n",
       "Open-1                 float64\n",
       "High-1                 float64\n",
       "Low-1                  float64\n",
       "Close-1                float64\n",
       "Adj Close-1            float64\n",
       "Volume-1               float64\n",
       "Open-2                 float64\n",
       "High-2                 float64\n",
       "Low-2                  float64\n",
       "Close-2                float64\n",
       "Adj Close-2            float64\n",
       "Volume-2               float64\n",
       "dtype: object"
      ]
     },
     "execution_count": 24,
     "metadata": {},
     "output_type": "execute_result"
    }
   ],
   "source": [
    "company_df.dtypes"
   ]
  },
  {
   "cell_type": "code",
   "execution_count": 25,
   "metadata": {},
   "outputs": [],
   "source": [
    "train_data = company_df[(company_df.Date >= create_timestamp(2005)) & (company_df.Date < create_timestamp(2017))]\n",
    "test_data = company_df[company_df.Date >= create_timestamp(2017)]"
   ]
  },
  {
   "cell_type": "code",
   "execution_count": 26,
   "metadata": {},
   "outputs": [
    {
     "data": {
      "image/png": "[encoded data removed]",
      "text/plain": [
       "<Figure size 1080x720 with 1 Axes>"
      ]
     },
     "metadata": {
      "needs_background": "light"
     },
     "output_type": "display_data"
    }
   ],
   "source": [
    "def plot_data(plot_train=True):\n",
    "    plt.figure(figsize=(15, 10))\n",
    "    if plot_train:\n",
    "        plt.plot(train_data.Date, train_data.Close, label='Train', c='C0')\n",
    "    plt.plot(test_data.Date, test_data.Close, label='Test', c='C1')\n",
    "    plt.title(\"Evolution of close price of Apple's stock\")\n",
    "    plt.ylabel(\"Close price\")\n",
    "    plt.xlabel(\"Date\")\n",
    "\n",
    "plot_data()\n",
    "plt.legend()\n",
    "plt.show()"
   ]
  },
  {
   "cell_type": "code",
   "execution_count": 27,
   "metadata": {},
   "outputs": [
    {
     "data": {
      "text/html": [
       "<div>\n",
       "<style scoped>\n",
       "    .dataframe tbody tr th:only-of-type {\n",
       "        vertical-align: middle;\n",
       "    }\n",
       "\n",
       "    .dataframe tbody tr th {\n",
       "        vertical-align: top;\n",
       "    }\n",
       "\n",
       "    .dataframe thead th {\n",
       "        text-align: right;\n",
       "    }\n",
       "</style>\n",
       "<table border=\"1\" class=\"dataframe\">\n",
       "  <thead>\n",
       "    <tr style=\"text-align: right;\">\n",
       "      <th></th>\n",
       "      <th>Date</th>\n",
       "      <th>Open</th>\n",
       "      <th>High</th>\n",
       "      <th>Low</th>\n",
       "      <th>Close</th>\n",
       "      <th>Adj Close</th>\n",
       "      <th>Volume</th>\n",
       "      <th>today_diff</th>\n",
       "      <th>today_mvt</th>\n",
       "      <th>tomorrow_mvt</th>\n",
       "      <th>...</th>\n",
       "      <th>Low-1</th>\n",
       "      <th>Close-1</th>\n",
       "      <th>Adj Close-1</th>\n",
       "      <th>Volume-1</th>\n",
       "      <th>Open-2</th>\n",
       "      <th>High-2</th>\n",
       "      <th>Low-2</th>\n",
       "      <th>Close-2</th>\n",
       "      <th>Adj Close-2</th>\n",
       "      <th>Volume-2</th>\n",
       "    </tr>\n",
       "  </thead>\n",
       "  <tbody>\n",
       "    <tr>\n",
       "      <th>2</th>\n",
       "      <td>1980-12-16</td>\n",
       "      <td>0.453125</td>\n",
       "      <td>0.453125</td>\n",
       "      <td>0.450893</td>\n",
       "      <td>0.450893</td>\n",
       "      <td>0.020293</td>\n",
       "      <td>26432000.0</td>\n",
       "      <td>-0.002232</td>\n",
       "      <td>0</td>\n",
       "      <td>1</td>\n",
       "      <td>...</td>\n",
       "      <td>0.486607</td>\n",
       "      <td>0.486607</td>\n",
       "      <td>0.021900</td>\n",
       "      <td>43971200.0</td>\n",
       "      <td>0.513393</td>\n",
       "      <td>0.515625</td>\n",
       "      <td>0.513393</td>\n",
       "      <td>0.513393</td>\n",
       "      <td>0.023106</td>\n",
       "      <td>117258400.0</td>\n",
       "    </tr>\n",
       "    <tr>\n",
       "      <th>3</th>\n",
       "      <td>1980-12-17</td>\n",
       "      <td>0.462054</td>\n",
       "      <td>0.464286</td>\n",
       "      <td>0.462054</td>\n",
       "      <td>0.462054</td>\n",
       "      <td>0.020795</td>\n",
       "      <td>21610400.0</td>\n",
       "      <td>0.000000</td>\n",
       "      <td>1</td>\n",
       "      <td>1</td>\n",
       "      <td>...</td>\n",
       "      <td>0.450893</td>\n",
       "      <td>0.450893</td>\n",
       "      <td>0.020293</td>\n",
       "      <td>26432000.0</td>\n",
       "      <td>0.488839</td>\n",
       "      <td>0.488839</td>\n",
       "      <td>0.486607</td>\n",
       "      <td>0.486607</td>\n",
       "      <td>0.021900</td>\n",
       "      <td>43971200.0</td>\n",
       "    </tr>\n",
       "    <tr>\n",
       "      <th>4</th>\n",
       "      <td>1980-12-18</td>\n",
       "      <td>0.475446</td>\n",
       "      <td>0.477679</td>\n",
       "      <td>0.475446</td>\n",
       "      <td>0.475446</td>\n",
       "      <td>0.021398</td>\n",
       "      <td>18362400.0</td>\n",
       "      <td>0.000000</td>\n",
       "      <td>1</td>\n",
       "      <td>1</td>\n",
       "      <td>...</td>\n",
       "      <td>0.462054</td>\n",
       "      <td>0.462054</td>\n",
       "      <td>0.020795</td>\n",
       "      <td>21610400.0</td>\n",
       "      <td>0.453125</td>\n",
       "      <td>0.453125</td>\n",
       "      <td>0.450893</td>\n",
       "      <td>0.450893</td>\n",
       "      <td>0.020293</td>\n",
       "      <td>26432000.0</td>\n",
       "    </tr>\n",
       "    <tr>\n",
       "      <th>5</th>\n",
       "      <td>1980-12-19</td>\n",
       "      <td>0.504464</td>\n",
       "      <td>0.506696</td>\n",
       "      <td>0.504464</td>\n",
       "      <td>0.504464</td>\n",
       "      <td>0.022704</td>\n",
       "      <td>12157600.0</td>\n",
       "      <td>0.000000</td>\n",
       "      <td>1</td>\n",
       "      <td>1</td>\n",
       "      <td>...</td>\n",
       "      <td>0.475446</td>\n",
       "      <td>0.475446</td>\n",
       "      <td>0.021398</td>\n",
       "      <td>18362400.0</td>\n",
       "      <td>0.462054</td>\n",
       "      <td>0.464286</td>\n",
       "      <td>0.462054</td>\n",
       "      <td>0.462054</td>\n",
       "      <td>0.020795</td>\n",
       "      <td>21610400.0</td>\n",
       "    </tr>\n",
       "    <tr>\n",
       "      <th>6</th>\n",
       "      <td>1980-12-22</td>\n",
       "      <td>0.529018</td>\n",
       "      <td>0.531250</td>\n",
       "      <td>0.529018</td>\n",
       "      <td>0.529018</td>\n",
       "      <td>0.023809</td>\n",
       "      <td>9340800.0</td>\n",
       "      <td>0.000000</td>\n",
       "      <td>1</td>\n",
       "      <td>1</td>\n",
       "      <td>...</td>\n",
       "      <td>0.504464</td>\n",
       "      <td>0.504464</td>\n",
       "      <td>0.022704</td>\n",
       "      <td>12157600.0</td>\n",
       "      <td>0.475446</td>\n",
       "      <td>0.477679</td>\n",
       "      <td>0.475446</td>\n",
       "      <td>0.475446</td>\n",
       "      <td>0.021398</td>\n",
       "      <td>18362400.0</td>\n",
       "    </tr>\n",
       "  </tbody>\n",
       "</table>\n",
       "<p>5 rows × 22 columns</p>\n",
       "</div>"
      ],
      "text/plain": [
       "        Date      Open      High       Low     Close  Adj Close      Volume  \\\n",
       "2 1980-12-16  0.453125  0.453125  0.450893  0.450893   0.020293  26432000.0   \n",
       "3 1980-12-17  0.462054  0.464286  0.462054  0.462054   0.020795  21610400.0   \n",
       "4 1980-12-18  0.475446  0.477679  0.475446  0.475446   0.021398  18362400.0   \n",
       "5 1980-12-19  0.504464  0.506696  0.504464  0.504464   0.022704  12157600.0   \n",
       "6 1980-12-22  0.529018  0.531250  0.529018  0.529018   0.023809   9340800.0   \n",
       "\n",
       "   today_diff  today_mvt  tomorrow_mvt     ...          Low-1   Close-1  \\\n",
       "2   -0.002232          0             1     ...       0.486607  0.486607   \n",
       "3    0.000000          1             1     ...       0.450893  0.450893   \n",
       "4    0.000000          1             1     ...       0.462054  0.462054   \n",
       "5    0.000000          1             1     ...       0.475446  0.475446   \n",
       "6    0.000000          1             1     ...       0.504464  0.504464   \n",
       "\n",
       "   Adj Close-1    Volume-1    Open-2    High-2     Low-2   Close-2  \\\n",
       "2     0.021900  43971200.0  0.513393  0.515625  0.513393  0.513393   \n",
       "3     0.020293  26432000.0  0.488839  0.488839  0.486607  0.486607   \n",
       "4     0.020795  21610400.0  0.453125  0.453125  0.450893  0.450893   \n",
       "5     0.021398  18362400.0  0.462054  0.464286  0.462054  0.462054   \n",
       "6     0.022704  12157600.0  0.475446  0.477679  0.475446  0.475446   \n",
       "\n",
       "   Adj Close-2     Volume-2  \n",
       "2     0.023106  117258400.0  \n",
       "3     0.021900   43971200.0  \n",
       "4     0.020293   26432000.0  \n",
       "5     0.020795   21610400.0  \n",
       "6     0.021398   18362400.0  \n",
       "\n",
       "[5 rows x 22 columns]"
      ]
     },
     "execution_count": 27,
     "metadata": {},
     "output_type": "execute_result"
    }
   ],
   "source": [
    "company_df.head()"
   ]
  },
  {
   "cell_type": "code",
   "execution_count": 28,
   "metadata": {},
   "outputs": [],
   "source": [
    "def get_x_y_from_df(df):\n",
    "    df = df.drop(['Date', 'today_diff', 'today_mvt'], axis=1)\n",
    "    return df.drop('tomorrow_mvt', axis=1), df['tomorrow_mvt']"
   ]
  },
  {
   "cell_type": "code",
   "execution_count": 29,
   "metadata": {},
   "outputs": [],
   "source": [
    "x_train, y_train = get_x_y_from_df(train_data)\n",
    "x_test, y_test = get_x_y_from_df(test_data)"
   ]
  },
  {
   "cell_type": "code",
   "execution_count": 30,
   "metadata": {},
   "outputs": [
    {
     "data": {
      "text/html": [
       "<div>\n",
       "<style scoped>\n",
       "    .dataframe tbody tr th:only-of-type {\n",
       "        vertical-align: middle;\n",
       "    }\n",
       "\n",
       "    .dataframe tbody tr th {\n",
       "        vertical-align: top;\n",
       "    }\n",
       "\n",
       "    .dataframe thead th {\n",
       "        text-align: right;\n",
       "    }\n",
       "</style>\n",
       "<table border=\"1\" class=\"dataframe\">\n",
       "  <thead>\n",
       "    <tr style=\"text-align: right;\">\n",
       "      <th></th>\n",
       "      <th>Open</th>\n",
       "      <th>High</th>\n",
       "      <th>Low</th>\n",
       "      <th>Close</th>\n",
       "      <th>Adj Close</th>\n",
       "      <th>Volume</th>\n",
       "      <th>Open-1</th>\n",
       "      <th>High-1</th>\n",
       "      <th>Low-1</th>\n",
       "      <th>Close-1</th>\n",
       "      <th>Adj Close-1</th>\n",
       "      <th>Volume-1</th>\n",
       "      <th>Open-2</th>\n",
       "      <th>High-2</th>\n",
       "      <th>Low-2</th>\n",
       "      <th>Close-2</th>\n",
       "      <th>Adj Close-2</th>\n",
       "      <th>Volume-2</th>\n",
       "    </tr>\n",
       "  </thead>\n",
       "  <tbody>\n",
       "    <tr>\n",
       "      <th>6072</th>\n",
       "      <td>4.627143</td>\n",
       "      <td>4.650714</td>\n",
       "      <td>4.471428</td>\n",
       "      <td>4.520714</td>\n",
       "      <td>3.027354</td>\n",
       "      <td>172998000.0</td>\n",
       "      <td>4.635000</td>\n",
       "      <td>4.642857</td>\n",
       "      <td>4.573571</td>\n",
       "      <td>4.600000</td>\n",
       "      <td>3.080449</td>\n",
       "      <td>69647200.0</td>\n",
       "      <td>4.629286</td>\n",
       "      <td>4.645000</td>\n",
       "      <td>4.587143</td>\n",
       "      <td>4.628572</td>\n",
       "      <td>3.099583</td>\n",
       "      <td>86335200.0</td>\n",
       "    </tr>\n",
       "    <tr>\n",
       "      <th>6073</th>\n",
       "      <td>4.556428</td>\n",
       "      <td>4.676429</td>\n",
       "      <td>4.497857</td>\n",
       "      <td>4.567143</td>\n",
       "      <td>3.058446</td>\n",
       "      <td>274202600.0</td>\n",
       "      <td>4.627143</td>\n",
       "      <td>4.650714</td>\n",
       "      <td>4.471428</td>\n",
       "      <td>4.520714</td>\n",
       "      <td>3.027354</td>\n",
       "      <td>172998000.0</td>\n",
       "      <td>4.635000</td>\n",
       "      <td>4.642857</td>\n",
       "      <td>4.573571</td>\n",
       "      <td>4.600000</td>\n",
       "      <td>3.080449</td>\n",
       "      <td>69647200.0</td>\n",
       "    </tr>\n",
       "    <tr>\n",
       "      <th>6074</th>\n",
       "      <td>4.604286</td>\n",
       "      <td>4.660714</td>\n",
       "      <td>4.575000</td>\n",
       "      <td>4.607143</td>\n",
       "      <td>3.085232</td>\n",
       "      <td>170108400.0</td>\n",
       "      <td>4.556428</td>\n",
       "      <td>4.676429</td>\n",
       "      <td>4.497857</td>\n",
       "      <td>4.567143</td>\n",
       "      <td>3.058446</td>\n",
       "      <td>274202600.0</td>\n",
       "      <td>4.627143</td>\n",
       "      <td>4.650714</td>\n",
       "      <td>4.471428</td>\n",
       "      <td>4.520714</td>\n",
       "      <td>3.027354</td>\n",
       "      <td>172998000.0</td>\n",
       "    </tr>\n",
       "    <tr>\n",
       "      <th>6075</th>\n",
       "      <td>4.619286</td>\n",
       "      <td>4.636428</td>\n",
       "      <td>4.523571</td>\n",
       "      <td>4.610714</td>\n",
       "      <td>3.087624</td>\n",
       "      <td>176388800.0</td>\n",
       "      <td>4.604286</td>\n",
       "      <td>4.660714</td>\n",
       "      <td>4.575000</td>\n",
       "      <td>4.607143</td>\n",
       "      <td>3.085232</td>\n",
       "      <td>170108400.0</td>\n",
       "      <td>4.556428</td>\n",
       "      <td>4.676429</td>\n",
       "      <td>4.497857</td>\n",
       "      <td>4.567143</td>\n",
       "      <td>3.058446</td>\n",
       "      <td>274202600.0</td>\n",
       "    </tr>\n",
       "    <tr>\n",
       "      <th>6076</th>\n",
       "      <td>4.642857</td>\n",
       "      <td>4.973571</td>\n",
       "      <td>4.625000</td>\n",
       "      <td>4.946429</td>\n",
       "      <td>3.312439</td>\n",
       "      <td>556862600.0</td>\n",
       "      <td>4.619286</td>\n",
       "      <td>4.636428</td>\n",
       "      <td>4.523571</td>\n",
       "      <td>4.610714</td>\n",
       "      <td>3.087624</td>\n",
       "      <td>176388800.0</td>\n",
       "      <td>4.604286</td>\n",
       "      <td>4.660714</td>\n",
       "      <td>4.575000</td>\n",
       "      <td>4.607143</td>\n",
       "      <td>3.085232</td>\n",
       "      <td>170108400.0</td>\n",
       "    </tr>\n",
       "  </tbody>\n",
       "</table>\n",
       "</div>"
      ],
      "text/plain": [
       "          Open      High       Low     Close  Adj Close       Volume  \\\n",
       "6072  4.627143  4.650714  4.471428  4.520714   3.027354  172998000.0   \n",
       "6073  4.556428  4.676429  4.497857  4.567143   3.058446  274202600.0   \n",
       "6074  4.604286  4.660714  4.575000  4.607143   3.085232  170108400.0   \n",
       "6075  4.619286  4.636428  4.523571  4.610714   3.087624  176388800.0   \n",
       "6076  4.642857  4.973571  4.625000  4.946429   3.312439  556862600.0   \n",
       "\n",
       "        Open-1    High-1     Low-1   Close-1  Adj Close-1     Volume-1  \\\n",
       "6072  4.635000  4.642857  4.573571  4.600000     3.080449   69647200.0   \n",
       "6073  4.627143  4.650714  4.471428  4.520714     3.027354  172998000.0   \n",
       "6074  4.556428  4.676429  4.497857  4.567143     3.058446  274202600.0   \n",
       "6075  4.604286  4.660714  4.575000  4.607143     3.085232  170108400.0   \n",
       "6076  4.619286  4.636428  4.523571  4.610714     3.087624  176388800.0   \n",
       "\n",
       "        Open-2    High-2     Low-2   Close-2  Adj Close-2     Volume-2  \n",
       "6072  4.629286  4.645000  4.587143  4.628572     3.099583   86335200.0  \n",
       "6073  4.635000  4.642857  4.573571  4.600000     3.080449   69647200.0  \n",
       "6074  4.627143  4.650714  4.471428  4.520714     3.027354  172998000.0  \n",
       "6075  4.556428  4.676429  4.497857  4.567143     3.058446  274202600.0  \n",
       "6076  4.604286  4.660714  4.575000  4.607143     3.085232  170108400.0  "
      ]
     },
     "execution_count": 30,
     "metadata": {},
     "output_type": "execute_result"
    }
   ],
   "source": [
    "x_train.head()"
   ]
  },
  {
   "cell_type": "code",
   "execution_count": 31,
   "metadata": {},
   "outputs": [
    {
     "data": {
      "text/plain": [
       "6072    1\n",
       "6073    1\n",
       "6074    0\n",
       "6075    1\n",
       "6076    0\n",
       "Name: tomorrow_mvt, dtype: int32"
      ]
     },
     "execution_count": 31,
     "metadata": {},
     "output_type": "execute_result"
    }
   ],
   "source": [
    "y_train.head()"
   ]
  },
  {
   "cell_type": "code",
   "execution_count": 34,
   "metadata": {},
   "outputs": [
    {
     "data": {
      "text/plain": [
       "0.8907646474677259"
      ]
     },
     "execution_count": 34,
     "metadata": {},
     "output_type": "execute_result"
    }
   ],
   "source": [
    "lgbm_classifier.score(x_train, y_train)"
   ]
  },
  {
   "cell_type": "code",
   "execution_count": 35,
   "metadata": {},
   "outputs": [
    {
     "data": {
      "text/plain": [
       "0.487551867219917"
      ]
     },
     "execution_count": 35,
     "metadata": {},
     "output_type": "execute_result"
    }
   ],
   "source": [
    "lgbm_classifier.score(x_test, y_test)"
   ]
  },
  {
   "cell_type": "code",
   "execution_count": 38,
   "metadata": {},
   "outputs": [
    {
     "data": {
      "text/plain": [
       "1    0.505131\n",
       "0    0.494869\n",
       "Name: tomorrow_mvt, dtype: float64"
      ]
     },
     "execution_count": 38,
     "metadata": {},
     "output_type": "execute_result"
    }
   ],
   "source": [
    "y_train.value_counts() / y_train.shape[0]"
   ]
  },
  {
   "cell_type": "code",
   "execution_count": 39,
   "metadata": {},
   "outputs": [
    {
     "data": {
      "text/plain": [
       "1    0.524896\n",
       "0    0.475104\n",
       "Name: tomorrow_mvt, dtype: float64"
      ]
     },
     "execution_count": 39,
     "metadata": {},
     "output_type": "execute_result"
    }
   ],
   "source": [
    "y_test.value_counts() / y_test.shape[0]"
   ]
  },
  {
   "cell_type": "code",
   "execution_count": 40,
   "metadata": {},
   "outputs": [],
   "source": [
    "def fit_and_score(model):\n",
    "    model.fit(x_train, y_train)\n",
    "    accuracy_train = model.score(x_train, y_train)\n",
    "    accuracy_test = model.score(x_test, y_test)\n",
    "    print(\"Accuracy on train set is {}\".format(accuracy_train))\n",
    "    print(\"Accuracy on test set is {}\".format(accuracy_test))\n",
    "    return accuracy_train, accuracy_test"
   ]
  },
  {
   "cell_type": "code",
   "execution_count": 48,
   "metadata": {},
   "outputs": [],
   "source": [
    "from lightgbm import LGBMClassifier\n",
    "from sklearn.linear_model import LogisticRegressionCV"
   ]
  },
  {
   "cell_type": "code",
   "execution_count": 54,
   "metadata": {},
   "outputs": [
    {
     "name": "stdout",
     "output_type": "stream",
     "text": [
      "Accuracy on train set is 0.9275074478649454\n",
      "Accuracy on test set is 0.47925311203319504\n"
     ]
    },
    {
     "data": {
      "text/plain": [
       "(0.9275074478649454, 0.47925311203319504)"
      ]
     },
     "execution_count": 54,
     "metadata": {},
     "output_type": "execute_result"
    }
   ],
   "source": [
    "fit_and_score(LGBMClassifier(n_estimators=150))"
   ]
  },
  {
   "cell_type": "code",
   "execution_count": 49,
   "metadata": {},
   "outputs": [
    {
     "name": "stdout",
     "output_type": "stream",
     "text": [
      "Accuracy on train set is 0.5097649784839458\n",
      "Accuracy on test set is 0.491701244813278\n"
     ]
    },
    {
     "data": {
      "text/plain": [
       "(0.5097649784839458, 0.491701244813278)"
      ]
     },
     "execution_count": 49,
     "metadata": {},
     "output_type": "execute_result"
    }
   ],
   "source": [
    "fit_and_score(LogisticRegressionCV(cv=5))"
   ]
  },
  {
   "cell_type": "code",
   "execution_count": 52,
   "metadata": {},
   "outputs": [
    {
     "name": "stdout",
     "output_type": "stream",
     "text": [
      "Accuracy on train set is 0.735187024164184\n",
      "Accuracy on test set is 0.47717842323651455\n"
     ]
    },
    {
     "data": {
      "text/plain": [
       "(0.735187024164184, 0.47717842323651455)"
      ]
     },
     "execution_count": 52,
     "metadata": {},
     "output_type": "execute_result"
    }
   ],
   "source": [
    "from xgboost import XGBClassifier\n",
    "fit_and_score(XGBClassifier(n_estimators=150))"
   ]
  }
 ],
 "metadata": {
  "kernelspec": {
   "display_name": "Python 3",
   "language": "python",
   "name": "python3"
  },
  "language_info": {
   "codemirror_mode": {
    "name": "ipython",
    "version": 3
   },
   "file_extension": ".py",
   "mimetype": "text/x-python",
   "name": "python",
   "nbconvert_exporter": "python",
   "pygments_lexer": "ipython3",
   "version": "3.6.5"
  }
 },
 "nbformat": 4,
 "nbformat_minor": 2
}
