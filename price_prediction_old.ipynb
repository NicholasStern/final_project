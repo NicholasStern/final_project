{
 "cells": [
  {
   "cell_type": "code",
   "execution_count": 4,
   "metadata": {},
   "outputs": [],
   "source": [
    "import pandas as pd\n",
    "import matplotlib.pyplot as plt\n",
    "import seaborn as sns\n",
    "import numpy as np"
   ]
  },
  {
   "cell_type": "code",
   "execution_count": 5,
   "metadata": {},
   "outputs": [],
   "source": [
    "company_df = pd.read_csv('histories/apple.csv')"
   ]
  },
  {
   "cell_type": "code",
   "execution_count": 6,
   "metadata": {},
   "outputs": [
    {
     "data": {
      "text/html": [
       "<div>\n",
       "<style scoped>\n",
       "    .dataframe tbody tr th:only-of-type {\n",
       "        vertical-align: middle;\n",
       "    }\n",
       "\n",
       "    .dataframe tbody tr th {\n",
       "        vertical-align: top;\n",
       "    }\n",
       "\n",
       "    .dataframe thead th {\n",
       "        text-align: right;\n",
       "    }\n",
       "</style>\n",
       "<table border=\"1\" class=\"dataframe\">\n",
       "  <thead>\n",
       "    <tr style=\"text-align: right;\">\n",
       "      <th></th>\n",
       "      <th>Date</th>\n",
       "      <th>Open</th>\n",
       "      <th>High</th>\n",
       "      <th>Low</th>\n",
       "      <th>Close</th>\n",
       "      <th>Adj Close</th>\n",
       "      <th>Volume</th>\n",
       "    </tr>\n",
       "  </thead>\n",
       "  <tbody>\n",
       "    <tr>\n",
       "      <th>0</th>\n",
       "      <td>1980-12-12</td>\n",
       "      <td>0.513393</td>\n",
       "      <td>0.515625</td>\n",
       "      <td>0.513393</td>\n",
       "      <td>0.513393</td>\n",
       "      <td>0.023106</td>\n",
       "      <td>117258400.0</td>\n",
       "    </tr>\n",
       "    <tr>\n",
       "      <th>1</th>\n",
       "      <td>1980-12-15</td>\n",
       "      <td>0.488839</td>\n",
       "      <td>0.488839</td>\n",
       "      <td>0.486607</td>\n",
       "      <td>0.486607</td>\n",
       "      <td>0.021900</td>\n",
       "      <td>43971200.0</td>\n",
       "    </tr>\n",
       "    <tr>\n",
       "      <th>2</th>\n",
       "      <td>1980-12-16</td>\n",
       "      <td>0.453125</td>\n",
       "      <td>0.453125</td>\n",
       "      <td>0.450893</td>\n",
       "      <td>0.450893</td>\n",
       "      <td>0.020293</td>\n",
       "      <td>26432000.0</td>\n",
       "    </tr>\n",
       "    <tr>\n",
       "      <th>3</th>\n",
       "      <td>1980-12-17</td>\n",
       "      <td>0.462054</td>\n",
       "      <td>0.464286</td>\n",
       "      <td>0.462054</td>\n",
       "      <td>0.462054</td>\n",
       "      <td>0.020795</td>\n",
       "      <td>21610400.0</td>\n",
       "    </tr>\n",
       "    <tr>\n",
       "      <th>4</th>\n",
       "      <td>1980-12-18</td>\n",
       "      <td>0.475446</td>\n",
       "      <td>0.477679</td>\n",
       "      <td>0.475446</td>\n",
       "      <td>0.475446</td>\n",
       "      <td>0.021398</td>\n",
       "      <td>18362400.0</td>\n",
       "    </tr>\n",
       "  </tbody>\n",
       "</table>\n",
       "</div>"
      ],
      "text/plain": [
       "         Date      Open      High       Low     Close  Adj Close       Volume\n",
       "0  1980-12-12  0.513393  0.515625  0.513393  0.513393   0.023106  117258400.0\n",
       "1  1980-12-15  0.488839  0.488839  0.486607  0.486607   0.021900   43971200.0\n",
       "2  1980-12-16  0.453125  0.453125  0.450893  0.450893   0.020293   26432000.0\n",
       "3  1980-12-17  0.462054  0.464286  0.462054  0.462054   0.020795   21610400.0\n",
       "4  1980-12-18  0.475446  0.477679  0.475446  0.475446   0.021398   18362400.0"
      ]
     },
     "execution_count": 6,
     "metadata": {},
     "output_type": "execute_result"
    }
   ],
   "source": [
    "company_df.head()"
   ]
  },
  {
   "cell_type": "code",
   "execution_count": 7,
   "metadata": {},
   "outputs": [
    {
     "data": {
      "text/plain": [
       "Date          object\n",
       "Open         float64\n",
       "High         float64\n",
       "Low          float64\n",
       "Close        float64\n",
       "Adj Close    float64\n",
       "Volume       float64\n",
       "dtype: object"
      ]
     },
     "execution_count": 7,
     "metadata": {},
     "output_type": "execute_result"
    }
   ],
   "source": [
    "company_df.dtypes"
   ]
  },
  {
   "cell_type": "code",
   "execution_count": 8,
   "metadata": {},
   "outputs": [],
   "source": [
    "company_df['Date'] = pd.to_datetime(company_df['Date'])"
   ]
  },
  {
   "cell_type": "code",
   "execution_count": 9,
   "metadata": {},
   "outputs": [
    {
     "data": {
      "text/html": [
       "<div>\n",
       "<style scoped>\n",
       "    .dataframe tbody tr th:only-of-type {\n",
       "        vertical-align: middle;\n",
       "    }\n",
       "\n",
       "    .dataframe tbody tr th {\n",
       "        vertical-align: top;\n",
       "    }\n",
       "\n",
       "    .dataframe thead th {\n",
       "        text-align: right;\n",
       "    }\n",
       "</style>\n",
       "<table border=\"1\" class=\"dataframe\">\n",
       "  <thead>\n",
       "    <tr style=\"text-align: right;\">\n",
       "      <th></th>\n",
       "      <th>Date</th>\n",
       "      <th>Open</th>\n",
       "      <th>High</th>\n",
       "      <th>Low</th>\n",
       "      <th>Close</th>\n",
       "      <th>Adj Close</th>\n",
       "      <th>Volume</th>\n",
       "    </tr>\n",
       "  </thead>\n",
       "  <tbody>\n",
       "    <tr>\n",
       "      <th>0</th>\n",
       "      <td>1980-12-12</td>\n",
       "      <td>0.513393</td>\n",
       "      <td>0.515625</td>\n",
       "      <td>0.513393</td>\n",
       "      <td>0.513393</td>\n",
       "      <td>0.023106</td>\n",
       "      <td>117258400.0</td>\n",
       "    </tr>\n",
       "    <tr>\n",
       "      <th>1</th>\n",
       "      <td>1980-12-15</td>\n",
       "      <td>0.488839</td>\n",
       "      <td>0.488839</td>\n",
       "      <td>0.486607</td>\n",
       "      <td>0.486607</td>\n",
       "      <td>0.021900</td>\n",
       "      <td>43971200.0</td>\n",
       "    </tr>\n",
       "    <tr>\n",
       "      <th>2</th>\n",
       "      <td>1980-12-16</td>\n",
       "      <td>0.453125</td>\n",
       "      <td>0.453125</td>\n",
       "      <td>0.450893</td>\n",
       "      <td>0.450893</td>\n",
       "      <td>0.020293</td>\n",
       "      <td>26432000.0</td>\n",
       "    </tr>\n",
       "    <tr>\n",
       "      <th>3</th>\n",
       "      <td>1980-12-17</td>\n",
       "      <td>0.462054</td>\n",
       "      <td>0.464286</td>\n",
       "      <td>0.462054</td>\n",
       "      <td>0.462054</td>\n",
       "      <td>0.020795</td>\n",
       "      <td>21610400.0</td>\n",
       "    </tr>\n",
       "    <tr>\n",
       "      <th>4</th>\n",
       "      <td>1980-12-18</td>\n",
       "      <td>0.475446</td>\n",
       "      <td>0.477679</td>\n",
       "      <td>0.475446</td>\n",
       "      <td>0.475446</td>\n",
       "      <td>0.021398</td>\n",
       "      <td>18362400.0</td>\n",
       "    </tr>\n",
       "  </tbody>\n",
       "</table>\n",
       "</div>"
      ],
      "text/plain": [
       "        Date      Open      High       Low     Close  Adj Close       Volume\n",
       "0 1980-12-12  0.513393  0.515625  0.513393  0.513393   0.023106  117258400.0\n",
       "1 1980-12-15  0.488839  0.488839  0.486607  0.486607   0.021900   43971200.0\n",
       "2 1980-12-16  0.453125  0.453125  0.450893  0.450893   0.020293   26432000.0\n",
       "3 1980-12-17  0.462054  0.464286  0.462054  0.462054   0.020795   21610400.0\n",
       "4 1980-12-18  0.475446  0.477679  0.475446  0.475446   0.021398   18362400.0"
      ]
     },
     "execution_count": 9,
     "metadata": {},
     "output_type": "execute_result"
    }
   ],
   "source": [
    "company_df.head()"
   ]
  },
  {
   "cell_type": "code",
   "execution_count": 10,
   "metadata": {},
   "outputs": [
    {
     "data": {
      "text/plain": [
       "Date         datetime64[ns]\n",
       "Open                float64\n",
       "High                float64\n",
       "Low                 float64\n",
       "Close               float64\n",
       "Adj Close           float64\n",
       "Volume              float64\n",
       "dtype: object"
      ]
     },
     "execution_count": 10,
     "metadata": {},
     "output_type": "execute_result"
    }
   ],
   "source": [
    "company_df.dtypes"
   ]
  },
  {
   "cell_type": "code",
   "execution_count": 11,
   "metadata": {},
   "outputs": [],
   "source": [
    "company_recent_df = company_df[-1000:]"
   ]
  },
  {
   "cell_type": "code",
   "execution_count": 12,
   "metadata": {},
   "outputs": [],
   "source": [
    "def create_timestamp(year, month=1, day=1):\n",
    "    return pd.Timestamp('{}-{:02d}-{:02d} 00:00:00'.format(year, month, day))"
   ]
  },
  {
   "cell_type": "code",
   "execution_count": 13,
   "metadata": {},
   "outputs": [],
   "source": [
    "train_data = company_df[(company_df.Date >= create_timestamp(2005)) & (company_df.Date < create_timestamp(2017))]\n",
    "test_data = company_df[company_df.Date >= create_timestamp(2017)]"
   ]
  },
  {
   "cell_type": "code",
   "execution_count": 14,
   "metadata": {},
   "outputs": [
    {
     "data": {
      "image/png": "[encoded data removed]",
      "text/plain": [
       "<Figure size 864x576 with 1 Axes>"
      ]
     },
     "metadata": {},
     "output_type": "display_data"
    }
   ],
   "source": [
    "def plot_data(plot_train=True):\n",
    "    plt.figure(figsize=(12, 8))\n",
    "    if plot_train:\n",
    "        plt.plot(train_data.Date, train_data.Close, label='True price of Train set', c='C0')\n",
    "    plt.plot(test_data.Date, test_data.Close, label='True price of Test set', c='C1')\n",
    "    plt.title(\"Evolution of close price of Apple's stock\", fontsize=17)\n",
    "    plt.ylabel(\"Close price\")\n",
    "    plt.xlabel(\"Date\")\n",
    "\n",
    "plot_data()\n",
    "plt.legend()\n",
    "plt.show()"
   ]
  },
  {
   "cell_type": "code",
   "execution_count": 15,
   "metadata": {},
   "outputs": [],
   "source": [
    "from sklearn.preprocessing import StandardScaler\n",
    "\n",
    "def get_x_y_from_df(df, scaler=None):\n",
    "    df = df.drop('Date', axis=1)\n",
    "    if scaler is None:\n",
    "        scaler = StandardScaler().fit(df)\n",
    "    df = pd.DataFrame(scaler.transform(df), columns=df.columns, index=df.index)\n",
    "    return df[:-1], df.Close[1:], scaler"
   ]
  },
  {
   "cell_type": "code",
   "execution_count": 16,
   "metadata": {},
   "outputs": [
    {
     "data": {
      "text/html": [
       "<div>\n",
       "<style scoped>\n",
       "    .dataframe tbody tr th:only-of-type {\n",
       "        vertical-align: middle;\n",
       "    }\n",
       "\n",
       "    .dataframe tbody tr th {\n",
       "        vertical-align: top;\n",
       "    }\n",
       "\n",
       "    .dataframe thead th {\n",
       "        text-align: right;\n",
       "    }\n",
       "</style>\n",
       "<table border=\"1\" class=\"dataframe\">\n",
       "  <thead>\n",
       "    <tr style=\"text-align: right;\">\n",
       "      <th></th>\n",
       "      <th>Open</th>\n",
       "      <th>High</th>\n",
       "      <th>Low</th>\n",
       "      <th>Close</th>\n",
       "      <th>Adj Close</th>\n",
       "      <th>Volume</th>\n",
       "    </tr>\n",
       "  </thead>\n",
       "  <tbody>\n",
       "    <tr>\n",
       "      <th>count</th>\n",
       "      <td>3021.000000</td>\n",
       "      <td>3021.000000</td>\n",
       "      <td>3021.000000</td>\n",
       "      <td>3021.000000</td>\n",
       "      <td>3021.000000</td>\n",
       "      <td>3.021000e+03</td>\n",
       "    </tr>\n",
       "    <tr>\n",
       "      <th>mean</th>\n",
       "      <td>52.698237</td>\n",
       "      <td>53.208994</td>\n",
       "      <td>52.129651</td>\n",
       "      <td>52.679014</td>\n",
       "      <td>43.141929</td>\n",
       "      <td>1.438625e+08</td>\n",
       "    </tr>\n",
       "    <tr>\n",
       "      <th>std</th>\n",
       "      <td>38.596359</td>\n",
       "      <td>38.893638</td>\n",
       "      <td>38.276518</td>\n",
       "      <td>38.586391</td>\n",
       "      <td>37.069011</td>\n",
       "      <td>1.028602e+08</td>\n",
       "    </tr>\n",
       "    <tr>\n",
       "      <th>min</th>\n",
       "      <td>4.556428</td>\n",
       "      <td>4.636428</td>\n",
       "      <td>4.471428</td>\n",
       "      <td>4.520714</td>\n",
       "      <td>3.027354</td>\n",
       "      <td>1.147590e+07</td>\n",
       "    </tr>\n",
       "    <tr>\n",
       "      <th>25%</th>\n",
       "      <td>17.230000</td>\n",
       "      <td>17.498571</td>\n",
       "      <td>16.969999</td>\n",
       "      <td>17.214285</td>\n",
       "      <td>11.527766</td>\n",
       "      <td>6.956740e+07</td>\n",
       "    </tr>\n",
       "    <tr>\n",
       "      <th>50%</th>\n",
       "      <td>46.428570</td>\n",
       "      <td>46.542858</td>\n",
       "      <td>45.931427</td>\n",
       "      <td>46.382858</td>\n",
       "      <td>31.060879</td>\n",
       "      <td>1.181362e+08</td>\n",
       "    </tr>\n",
       "    <tr>\n",
       "      <th>75%</th>\n",
       "      <td>85.794289</td>\n",
       "      <td>86.699997</td>\n",
       "      <td>85.037140</td>\n",
       "      <td>86.142860</td>\n",
       "      <td>66.691956</td>\n",
       "      <td>1.898981e+08</td>\n",
       "    </tr>\n",
       "    <tr>\n",
       "      <th>max</th>\n",
       "      <td>134.460007</td>\n",
       "      <td>134.539993</td>\n",
       "      <td>131.399994</td>\n",
       "      <td>133.000000</td>\n",
       "      <td>124.616013</td>\n",
       "      <td>8.432424e+08</td>\n",
       "    </tr>\n",
       "  </tbody>\n",
       "</table>\n",
       "</div>"
      ],
      "text/plain": [
       "              Open         High          Low        Close    Adj Close  \\\n",
       "count  3021.000000  3021.000000  3021.000000  3021.000000  3021.000000   \n",
       "mean     52.698237    53.208994    52.129651    52.679014    43.141929   \n",
       "std      38.596359    38.893638    38.276518    38.586391    37.069011   \n",
       "min       4.556428     4.636428     4.471428     4.520714     3.027354   \n",
       "25%      17.230000    17.498571    16.969999    17.214285    11.527766   \n",
       "50%      46.428570    46.542858    45.931427    46.382858    31.060879   \n",
       "75%      85.794289    86.699997    85.037140    86.142860    66.691956   \n",
       "max     134.460007   134.539993   131.399994   133.000000   124.616013   \n",
       "\n",
       "             Volume  \n",
       "count  3.021000e+03  \n",
       "mean   1.438625e+08  \n",
       "std    1.028602e+08  \n",
       "min    1.147590e+07  \n",
       "25%    6.956740e+07  \n",
       "50%    1.181362e+08  \n",
       "75%    1.898981e+08  \n",
       "max    8.432424e+08  "
      ]
     },
     "execution_count": 16,
     "metadata": {},
     "output_type": "execute_result"
    }
   ],
   "source": [
    "train_data.describe()"
   ]
  },
  {
   "cell_type": "code",
   "execution_count": 17,
   "metadata": {},
   "outputs": [],
   "source": [
    "x_train, y_train, scaler = get_x_y_from_df(train_data)\n",
    "x_test, y_test, _ = get_x_y_from_df(test_data, scaler)"
   ]
  },
  {
   "cell_type": "code",
   "execution_count": 18,
   "metadata": {},
   "outputs": [],
   "source": [
    "from sklearn.linear_model import LinearRegression"
   ]
  },
  {
   "cell_type": "code",
   "execution_count": 19,
   "metadata": {},
   "outputs": [],
   "source": [
    "linear_model = LinearRegression().fit(x_train, y_train)"
   ]
  },
  {
   "cell_type": "code",
   "execution_count": 20,
   "metadata": {},
   "outputs": [
    {
     "data": {
      "text/plain": [
       "0.9992497478229602"
      ]
     },
     "execution_count": 20,
     "metadata": {},
     "output_type": "execute_result"
    }
   ],
   "source": [
    "linear_model.score(x_train, y_train)"
   ]
  },
  {
   "cell_type": "code",
   "execution_count": 21,
   "metadata": {},
   "outputs": [
    {
     "data": {
      "text/plain": [
       "0.9906165379714393"
      ]
     },
     "execution_count": 21,
     "metadata": {},
     "output_type": "execute_result"
    }
   ],
   "source": [
    "linear_model.score(x_test, y_test)"
   ]
  },
  {
   "cell_type": "code",
   "execution_count": 22,
   "metadata": {},
   "outputs": [],
   "source": [
    "y_predict = linear_model.predict(x_test)"
   ]
  },
  {
   "cell_type": "code",
   "execution_count": 23,
   "metadata": {},
   "outputs": [
    {
     "name": "stderr",
     "output_type": "stream",
     "text": [
      "/anaconda3/lib/python3.6/site-packages/matplotlib/axes/_axes.py:6571: UserWarning: The 'normed' kwarg is deprecated, and has been replaced by the 'density' kwarg.\n",
      "  warnings.warn(\"The 'normed' kwarg is deprecated, and has been \"\n"
     ]
    },
    {
     "data": {
      "text/plain": [
       "<matplotlib.axes._subplots.AxesSubplot at 0x1a1a8d4c50>"
      ]
     },
     "execution_count": 23,
     "metadata": {},
     "output_type": "execute_result"
    },
    {
     "data": {
      "image/png": "[encoded data removed]",
      "text/plain": [
       "<Figure size 432x288 with 1 Axes>"
      ]
     },
     "metadata": {},
     "output_type": "display_data"
    }
   ],
   "source": [
    "sns.distplot(np.abs(linear_model.predict(x_train) - y_train))"
   ]
  },
  {
   "cell_type": "code",
   "execution_count": 24,
   "metadata": {
    "scrolled": false
   },
   "outputs": [
    {
     "name": "stdout",
     "output_type": "stream",
     "text": [
      "75.52% of correct results with threshold=0.02.\n"
     ]
    },
    {
     "data": {
      "image/png": "[encoded data removed]",
      "text/plain": [
       "<Figure size 864x576 with 1 Axes>"
      ]
     },
     "metadata": {},
     "output_type": "display_data"
    }
   ],
   "source": [
    "threshold = .02\n",
    "is_correct = np.array(np.abs(y_predict - y_test)/y_test < threshold)\n",
    "is_incorrect = np.invert(is_correct)\n",
    "\n",
    "print(\"{:.2f}% of correct results with threshold={}.\".format(is_correct.sum()/is_correct.shape[0]*100, threshold))\n",
    "\n",
    "index_correct = test_data[np.append(is_correct, False)].index\n",
    "index_incorrect = test_data[np.append(is_incorrect, False)].index\n",
    "\n",
    "plot_data(plot_train=False)\n",
    "plt.plot(test_data.loc[index_correct + 1].Date, test_data.Close.loc[index_correct + 1], 'g.', label='Correct prediction')\n",
    "plt.plot(test_data.loc[index_incorrect + 1].Date, test_data.Close.loc[index_incorrect + 1], 'rx', label='Incorrect prediction')\n",
    "plt.legend()\n",
    "plt.show()"
   ]
  },
  {
   "cell_type": "code",
   "execution_count": 25,
   "metadata": {},
   "outputs": [
    {
     "data": {
      "text/html": [
       "<div>\n",
       "<style scoped>\n",
       "    .dataframe tbody tr th:only-of-type {\n",
       "        vertical-align: middle;\n",
       "    }\n",
       "\n",
       "    .dataframe tbody tr th {\n",
       "        vertical-align: top;\n",
       "    }\n",
       "\n",
       "    .dataframe thead th {\n",
       "        text-align: right;\n",
       "    }\n",
       "</style>\n",
       "<table border=\"1\" class=\"dataframe\">\n",
       "  <thead>\n",
       "    <tr style=\"text-align: right;\">\n",
       "      <th></th>\n",
       "      <th>Open</th>\n",
       "      <th>High</th>\n",
       "      <th>Low</th>\n",
       "      <th>Close</th>\n",
       "      <th>Adj Close</th>\n",
       "      <th>Volume</th>\n",
       "    </tr>\n",
       "  </thead>\n",
       "  <tbody>\n",
       "    <tr>\n",
       "      <th>9093</th>\n",
       "      <td>1.635186</td>\n",
       "      <td>1.623182</td>\n",
       "      <td>1.636531</td>\n",
       "      <td>1.645178</td>\n",
       "      <td>1.874626</td>\n",
       "      <td>-1.118990</td>\n",
       "    </tr>\n",
       "    <tr>\n",
       "      <th>9094</th>\n",
       "      <td>1.636481</td>\n",
       "      <td>1.627811</td>\n",
       "      <td>1.662400</td>\n",
       "      <td>1.641809</td>\n",
       "      <td>1.871225</td>\n",
       "      <td>-1.193510</td>\n",
       "    </tr>\n",
       "    <tr>\n",
       "      <th>9095</th>\n",
       "      <td>1.638295</td>\n",
       "      <td>1.636811</td>\n",
       "      <td>1.663968</td>\n",
       "      <td>1.657102</td>\n",
       "      <td>1.886660</td>\n",
       "      <td>-1.183052</td>\n",
       "    </tr>\n",
       "    <tr>\n",
       "      <th>9096</th>\n",
       "      <td>1.660581</td>\n",
       "      <td>1.670241</td>\n",
       "      <td>1.681214</td>\n",
       "      <td>1.690798</td>\n",
       "      <td>1.920670</td>\n",
       "      <td>-1.090112</td>\n",
       "    </tr>\n",
       "    <tr>\n",
       "      <th>9097</th>\n",
       "      <td>1.690899</td>\n",
       "      <td>1.702900</td>\n",
       "      <td>1.719625</td>\n",
       "      <td>1.718792</td>\n",
       "      <td>1.948924</td>\n",
       "      <td>-1.072512</td>\n",
       "    </tr>\n",
       "  </tbody>\n",
       "</table>\n",
       "</div>"
      ],
      "text/plain": [
       "          Open      High       Low     Close  Adj Close    Volume\n",
       "9093  1.635186  1.623182  1.636531  1.645178   1.874626 -1.118990\n",
       "9094  1.636481  1.627811  1.662400  1.641809   1.871225 -1.193510\n",
       "9095  1.638295  1.636811  1.663968  1.657102   1.886660 -1.183052\n",
       "9096  1.660581  1.670241  1.681214  1.690798   1.920670 -1.090112\n",
       "9097  1.690899  1.702900  1.719625  1.718792   1.948924 -1.072512"
      ]
     },
     "execution_count": 25,
     "metadata": {},
     "output_type": "execute_result"
    }
   ],
   "source": [
    "x_test.head()"
   ]
  },
  {
   "cell_type": "code",
   "execution_count": 26,
   "metadata": {},
   "outputs": [
    {
     "data": {
      "text/plain": [
       "array([3.85899705e+01, 3.88872000e+01, 3.82701826e+01, 3.85800039e+01,\n",
       "       3.70628750e+01, 1.02843194e+08])"
      ]
     },
     "execution_count": 26,
     "metadata": {},
     "output_type": "execute_result"
    }
   ],
   "source": [
    "scaler.scale_"
   ]
  },
  {
   "cell_type": "code",
   "execution_count": 27,
   "metadata": {},
   "outputs": [],
   "source": [
    "def unscale(y):\n",
    "    return y * scaler.scale_[3] + scaler.mean_[3]"
   ]
  },
  {
   "cell_type": "code",
   "execution_count": 28,
   "metadata": {},
   "outputs": [
    {
     "data": {
      "image/png": "[encoded data removed]",
      "text/plain": [
       "<Figure size 864x576 with 1 Axes>"
      ]
     },
     "metadata": {},
     "output_type": "display_data"
    }
   ],
   "source": [
    "plot_data(plot_train=False)\n",
    "plt.plot(test_data.loc[index_correct + 1].Date, test_data.Close.loc[index_correct + 1], 'g.', label='Correct prediction')\n",
    "plt.plot(test_data.loc[index_incorrect + 1].Date, test_data.Close.loc[index_incorrect + 1], 'rx', label='Incorrect prediction')\n",
    "\n",
    "plt.plot(test_data.Date[1:], unscale(y_predict), 'C4.-', label='Prediction')\n",
    "plt.legend()\n",
    "plt.xlim(create_timestamp(2018, 1, 1), create_timestamp(2018, 1, 30))\n",
    "plt.show()"
   ]
  },
  {
   "cell_type": "code",
   "execution_count": 29,
   "metadata": {},
   "outputs": [
    {
     "data": {
      "text/plain": [
       "Index(['Open', 'High', 'Low', 'Close', 'Adj Close', 'Volume'], dtype='object')"
      ]
     },
     "execution_count": 29,
     "metadata": {},
     "output_type": "execute_result"
    }
   ],
   "source": [
    "x_train.columns"
   ]
  },
  {
   "cell_type": "code",
   "execution_count": 30,
   "metadata": {},
   "outputs": [
    {
     "data": {
      "text/plain": [
       "array([-6.99124298e-02,  1.66518119e-01,  7.88212790e-02,  8.23263709e-01,\n",
       "        6.87950491e-04, -7.36512162e-04])"
      ]
     },
     "execution_count": 30,
     "metadata": {},
     "output_type": "execute_result"
    }
   ],
   "source": [
    "linear_model.coef_"
   ]
  },
  {
   "cell_type": "code",
   "execution_count": 31,
   "metadata": {},
   "outputs": [],
   "source": [
    "y_predict_same_as_before = x_test.Close.values"
   ]
  },
  {
   "cell_type": "code",
   "execution_count": 32,
   "metadata": {},
   "outputs": [
    {
     "name": "stdout",
     "output_type": "stream",
     "text": [
      "76.56% of correct results with threshold=0.02 on test set.\n"
     ]
    }
   ],
   "source": [
    "is_correct = np.array(np.abs(y_predict_same_as_before - y_test)/y_test < threshold)\n",
    "is_incorrect = np.invert(is_correct)\n",
    "\n",
    "print(\"{:.2f}% of correct results with threshold={} on test set.\".format(is_correct.sum()/is_correct.shape[0]*100, threshold))"
   ]
  },
  {
   "cell_type": "code",
   "execution_count": 33,
   "metadata": {},
   "outputs": [
    {
     "name": "stdout",
     "output_type": "stream",
     "text": [
      "74.83% of correct results with threshold=0.02 on train set.\n"
     ]
    }
   ],
   "source": [
    "is_correct = np.array(np.abs(linear_model.predict(x_train) - y_train)/y_train < threshold)\n",
    "print(\"{:.2f}% of correct results with threshold={} on train set.\".format(is_correct.sum()/is_correct.shape[0]*100, threshold))"
   ]
  },
  {
   "cell_type": "code",
   "execution_count": null,
   "metadata": {},
   "outputs": [],
   "source": []
  },
  {
   "cell_type": "code",
   "execution_count": null,
   "metadata": {},
   "outputs": [],
   "source": []
  }
 ],
 "metadata": {
  "kernelspec": {
   "display_name": "Python 3",
   "language": "python",
   "name": "python3"
  },
  "language_info": {
   "codemirror_mode": {
    "name": "ipython",
    "version": 3
   },
   "file_extension": ".py",
   "mimetype": "text/x-python",
   "name": "python",
   "nbconvert_exporter": "python",
   "pygments_lexer": "ipython3",
   "version": "3.6.6"
  }
 },
 "nbformat": 4,
 "nbformat_minor": 2
}
